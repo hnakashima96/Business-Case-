{
 "cells": [
  {
   "cell_type": "code",
   "execution_count": 2,
   "metadata": {},
   "outputs": [],
   "source": [
    "#libraries \n",
    "import numpy as np\n",
    "import pandas as pd\n",
    "from mlxtend.frequent_patterns import apriori \n",
    "from mlxtend.frequent_patterns import association_rules "
   ]
  },
  {
   "cell_type": "markdown",
   "metadata": {},
   "source": [
    "## Context \n",
    "\n",
    "Instacart is an american company that provides a grocery delivery and pick-up\n",
    "service via a website or mobile app in the United States and Canada."
   ]
  },
  {
   "cell_type": "code",
   "execution_count": 7,
   "metadata": {},
   "outputs": [],
   "source": [
    "dep = pd.read_csv(r'C:/Users/hirom/Documents/GitHub/Business-Case-/Business Case 03 - Apr/departments.csv')\n",
    "op = pd.read_csv(r'C:/Users/hirom/Documents/GitHub/Business-Case-/Business Case 03 - Apr/order_products.csv')\n",
    "ord = pd.read_csv(r'C:/Users/hirom/Documents/GitHub/Business-Case-/Business Case 03 - Apr/orders.csv')\n",
    "prod = pd.read_csv(r'C:/Users/hirom/Documents/GitHub/Business-Case-/Business Case 03 - Apr/products.csv')"
   ]
  },
  {
   "cell_type": "code",
   "execution_count": 38,
   "metadata": {},
   "outputs": [
    {
     "data": {
      "text/html": [
       "<div>\n",
       "<style scoped>\n",
       "    .dataframe tbody tr th:only-of-type {\n",
       "        vertical-align: middle;\n",
       "    }\n",
       "\n",
       "    .dataframe tbody tr th {\n",
       "        vertical-align: top;\n",
       "    }\n",
       "\n",
       "    .dataframe thead th {\n",
       "        text-align: right;\n",
       "    }\n",
       "</style>\n",
       "<table border=\"1\" class=\"dataframe\">\n",
       "  <thead>\n",
       "    <tr style=\"text-align: right;\">\n",
       "      <th></th>\n",
       "      <th>order_id</th>\n",
       "      <th>user_id</th>\n",
       "      <th>order_number</th>\n",
       "      <th>order_dow</th>\n",
       "      <th>order_hour_of_day</th>\n",
       "      <th>days_since_prior_order</th>\n",
       "    </tr>\n",
       "  </thead>\n",
       "  <tbody>\n",
       "    <tr>\n",
       "      <th>0</th>\n",
       "      <td>2425083</td>\n",
       "      <td>49125</td>\n",
       "      <td>1</td>\n",
       "      <td>2</td>\n",
       "      <td>18</td>\n",
       "      <td>NaN</td>\n",
       "    </tr>\n",
       "    <tr>\n",
       "      <th>1</th>\n",
       "      <td>1944304</td>\n",
       "      <td>162867</td>\n",
       "      <td>1</td>\n",
       "      <td>3</td>\n",
       "      <td>17</td>\n",
       "      <td>NaN</td>\n",
       "    </tr>\n",
       "    <tr>\n",
       "      <th>2</th>\n",
       "      <td>1201011</td>\n",
       "      <td>147243</td>\n",
       "      <td>14</td>\n",
       "      <td>0</td>\n",
       "      <td>16</td>\n",
       "      <td>3.0</td>\n",
       "    </tr>\n",
       "    <tr>\n",
       "      <th>3</th>\n",
       "      <td>1906860</td>\n",
       "      <td>195275</td>\n",
       "      <td>81</td>\n",
       "      <td>1</td>\n",
       "      <td>11</td>\n",
       "      <td>3.0</td>\n",
       "    </tr>\n",
       "    <tr>\n",
       "      <th>4</th>\n",
       "      <td>2766469</td>\n",
       "      <td>58222</td>\n",
       "      <td>3</td>\n",
       "      <td>6</td>\n",
       "      <td>11</td>\n",
       "      <td>6.0</td>\n",
       "    </tr>\n",
       "  </tbody>\n",
       "</table>\n",
       "</div>"
      ],
      "text/plain": [
       "   order_id  user_id  order_number  order_dow  order_hour_of_day  \\\n",
       "0   2425083    49125             1          2                 18   \n",
       "1   1944304   162867             1          3                 17   \n",
       "2   1201011   147243            14          0                 16   \n",
       "3   1906860   195275            81          1                 11   \n",
       "4   2766469    58222             3          6                 11   \n",
       "\n",
       "   days_since_prior_order  \n",
       "0                     NaN  \n",
       "1                     NaN  \n",
       "2                     3.0  \n",
       "3                     3.0  \n",
       "4                     6.0  "
      ]
     },
     "execution_count": 38,
     "metadata": {},
     "output_type": "execute_result"
    }
   ],
   "source": [
    "ord.head()"
   ]
  },
  {
   "cell_type": "code",
   "execution_count": 33,
   "metadata": {},
   "outputs": [],
   "source": [
    "def preprocessing(db):\n",
    "    print(db.isna().sum())\n",
    "    print(db.duplicated().sum())\n",
    "    print(pd.DataFrame(db.describe(include=\"all\")))"
   ]
  },
  {
   "cell_type": "code",
   "execution_count": 37,
   "metadata": {},
   "outputs": [
    {
     "name": "stdout",
     "output_type": "stream",
     "text": [
      "product_id       0\n",
      "department_id    0\n",
      "product_name     0\n",
      "dtype: int64\n",
      "0\n",
      "        product_id  department_id product_name\n",
      "count   134.000000     134.000000          134\n",
      "unique         NaN            NaN          134\n",
      "top            NaN            NaN     crackers\n",
      "freq           NaN            NaN            1\n",
      "mean     67.500000      11.373134          NaN\n",
      "std      38.826537       5.726435          NaN\n",
      "min       1.000000       1.000000          NaN\n",
      "25%      34.250000       7.000000          NaN\n",
      "50%      67.500000      12.000000          NaN\n",
      "75%     100.750000      16.000000          NaN\n",
      "max     134.000000      21.000000          NaN\n"
     ]
    }
   ],
   "source": [
    "preprocessing(prod)"
   ]
  },
  {
   "cell_type": "code",
   "execution_count": null,
   "metadata": {},
   "outputs": [],
   "source": []
  }
 ],
 "metadata": {
  "kernelspec": {
   "display_name": "Python 3",
   "language": "python",
   "name": "python3"
  },
  "language_info": {
   "codemirror_mode": {
    "name": "ipython",
    "version": 3
   },
   "file_extension": ".py",
   "mimetype": "text/x-python",
   "name": "python",
   "nbconvert_exporter": "python",
   "pygments_lexer": "ipython3",
   "version": "3.8.5"
  }
 },
 "nbformat": 4,
 "nbformat_minor": 4
}
